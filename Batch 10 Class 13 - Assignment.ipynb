{
 "cells": [
  {
   "cell_type": "code",
   "execution_count": 1,
   "id": "75c49020",
   "metadata": {},
   "outputs": [],
   "source": [
    "#import libraries \n",
    "import pandas as pd \n",
    "import numpy as np \n",
    "import seaborn as sns \n",
    "import matplotlib.pyplot as plt "
   ]
  },
  {
   "cell_type": "code",
   "execution_count": 2,
   "id": "72771565",
   "metadata": {},
   "outputs": [],
   "source": [
    "df = pd.read_csv('Phishing Data.csv') #import data set "
   ]
  },
  {
   "cell_type": "code",
   "execution_count": 3,
   "id": "5c158df8",
   "metadata": {},
   "outputs": [
    {
     "data": {
      "text/html": [
       "<div>\n",
       "<style scoped>\n",
       "    .dataframe tbody tr th:only-of-type {\n",
       "        vertical-align: middle;\n",
       "    }\n",
       "\n",
       "    .dataframe tbody tr th {\n",
       "        vertical-align: top;\n",
       "    }\n",
       "\n",
       "    .dataframe thead th {\n",
       "        text-align: right;\n",
       "    }\n",
       "</style>\n",
       "<table border=\"1\" class=\"dataframe\">\n",
       "  <thead>\n",
       "    <tr style=\"text-align: right;\">\n",
       "      <th></th>\n",
       "      <th>total_number_char_C</th>\n",
       "      <th>Vocabulary_richness_W/C</th>\n",
       "      <th>Account</th>\n",
       "      <th>Access</th>\n",
       "      <th>Bank</th>\n",
       "      <th>Credit</th>\n",
       "      <th>Click</th>\n",
       "      <th>Identity</th>\n",
       "      <th>Inconvenience</th>\n",
       "      <th>Information</th>\n",
       "      <th>...</th>\n",
       "      <th>Password</th>\n",
       "      <th>Recently</th>\n",
       "      <th>Risk</th>\n",
       "      <th>Social</th>\n",
       "      <th>Security</th>\n",
       "      <th>Service</th>\n",
       "      <th>Suspended</th>\n",
       "      <th>total_number</th>\n",
       "      <th>words</th>\n",
       "      <th>status</th>\n",
       "    </tr>\n",
       "  </thead>\n",
       "  <tbody>\n",
       "    <tr>\n",
       "      <th>0</th>\n",
       "      <td>1673</td>\n",
       "      <td>0.128512</td>\n",
       "      <td>2</td>\n",
       "      <td>0</td>\n",
       "      <td>0</td>\n",
       "      <td>0</td>\n",
       "      <td>1</td>\n",
       "      <td>0</td>\n",
       "      <td>0</td>\n",
       "      <td>1</td>\n",
       "      <td>...</td>\n",
       "      <td>1</td>\n",
       "      <td>1</td>\n",
       "      <td>0</td>\n",
       "      <td>0</td>\n",
       "      <td>0</td>\n",
       "      <td>0</td>\n",
       "      <td>0</td>\n",
       "      <td>0.027907</td>\n",
       "      <td>132</td>\n",
       "      <td>1</td>\n",
       "    </tr>\n",
       "    <tr>\n",
       "      <th>1</th>\n",
       "      <td>4465</td>\n",
       "      <td>0.137738</td>\n",
       "      <td>0</td>\n",
       "      <td>0</td>\n",
       "      <td>0</td>\n",
       "      <td>0</td>\n",
       "      <td>0</td>\n",
       "      <td>0</td>\n",
       "      <td>0</td>\n",
       "      <td>4</td>\n",
       "      <td>...</td>\n",
       "      <td>0</td>\n",
       "      <td>0</td>\n",
       "      <td>0</td>\n",
       "      <td>0</td>\n",
       "      <td>3</td>\n",
       "      <td>1</td>\n",
       "      <td>0</td>\n",
       "      <td>0.013008</td>\n",
       "      <td>338</td>\n",
       "      <td>1</td>\n",
       "    </tr>\n",
       "    <tr>\n",
       "      <th>2</th>\n",
       "      <td>6813</td>\n",
       "      <td>0.095993</td>\n",
       "      <td>0</td>\n",
       "      <td>0</td>\n",
       "      <td>0</td>\n",
       "      <td>2</td>\n",
       "      <td>0</td>\n",
       "      <td>0</td>\n",
       "      <td>0</td>\n",
       "      <td>2</td>\n",
       "      <td>...</td>\n",
       "      <td>0</td>\n",
       "      <td>0</td>\n",
       "      <td>0</td>\n",
       "      <td>0</td>\n",
       "      <td>0</td>\n",
       "      <td>0</td>\n",
       "      <td>0</td>\n",
       "      <td>0.006116</td>\n",
       "      <td>292</td>\n",
       "      <td>1</td>\n",
       "    </tr>\n",
       "    <tr>\n",
       "      <th>3</th>\n",
       "      <td>1518</td>\n",
       "      <td>0.109354</td>\n",
       "      <td>0</td>\n",
       "      <td>0</td>\n",
       "      <td>0</td>\n",
       "      <td>1</td>\n",
       "      <td>1</td>\n",
       "      <td>0</td>\n",
       "      <td>0</td>\n",
       "      <td>0</td>\n",
       "      <td>...</td>\n",
       "      <td>0</td>\n",
       "      <td>0</td>\n",
       "      <td>0</td>\n",
       "      <td>0</td>\n",
       "      <td>0</td>\n",
       "      <td>0</td>\n",
       "      <td>0</td>\n",
       "      <td>0.012048</td>\n",
       "      <td>102</td>\n",
       "      <td>1</td>\n",
       "    </tr>\n",
       "    <tr>\n",
       "      <th>4</th>\n",
       "      <td>1881</td>\n",
       "      <td>0.126528</td>\n",
       "      <td>7</td>\n",
       "      <td>3</td>\n",
       "      <td>0</td>\n",
       "      <td>0</td>\n",
       "      <td>0</td>\n",
       "      <td>1</td>\n",
       "      <td>0</td>\n",
       "      <td>2</td>\n",
       "      <td>...</td>\n",
       "      <td>0</td>\n",
       "      <td>0</td>\n",
       "      <td>0</td>\n",
       "      <td>0</td>\n",
       "      <td>0</td>\n",
       "      <td>0</td>\n",
       "      <td>2</td>\n",
       "      <td>0.063025</td>\n",
       "      <td>136</td>\n",
       "      <td>1</td>\n",
       "    </tr>\n",
       "  </tbody>\n",
       "</table>\n",
       "<p>5 rows × 22 columns</p>\n",
       "</div>"
      ],
      "text/plain": [
       "   total_number_char_C  Vocabulary_richness_W/C  Account  Access  Bank  \\\n",
       "0                 1673                 0.128512        2       0     0   \n",
       "1                 4465                 0.137738        0       0     0   \n",
       "2                 6813                 0.095993        0       0     0   \n",
       "3                 1518                 0.109354        0       0     0   \n",
       "4                 1881                 0.126528        7       3     0   \n",
       "\n",
       "   Credit  Click  Identity  Inconvenience  Information  ...  Password  \\\n",
       "0       0      1         0              0            1  ...         1   \n",
       "1       0      0         0              0            4  ...         0   \n",
       "2       2      0         0              0            2  ...         0   \n",
       "3       1      1         0              0            0  ...         0   \n",
       "4       0      0         1              0            2  ...         0   \n",
       "\n",
       "   Recently  Risk  Social  Security  Service  Suspended  total_number  words  \\\n",
       "0         1     0       0         0        0          0      0.027907    132   \n",
       "1         0     0       0         3        1          0      0.013008    338   \n",
       "2         0     0       0         0        0          0      0.006116    292   \n",
       "3         0     0       0         0        0          0      0.012048    102   \n",
       "4         0     0       0         0        0          2      0.063025    136   \n",
       "\n",
       "   status  \n",
       "0       1  \n",
       "1       1  \n",
       "2       1  \n",
       "3       1  \n",
       "4       1  \n",
       "\n",
       "[5 rows x 22 columns]"
      ]
     },
     "execution_count": 3,
     "metadata": {},
     "output_type": "execute_result"
    }
   ],
   "source": [
    "df.head()"
   ]
  },
  {
   "cell_type": "code",
   "execution_count": 4,
   "id": "d09f43d0",
   "metadata": {},
   "outputs": [
    {
     "data": {
      "text/plain": [
       "(525754, 22)"
      ]
     },
     "execution_count": 4,
     "metadata": {},
     "output_type": "execute_result"
    }
   ],
   "source": [
    "df.shape"
   ]
  },
  {
   "cell_type": "code",
   "execution_count": 5,
   "id": "4cb2daa1",
   "metadata": {},
   "outputs": [
    {
     "data": {
      "text/plain": [
       "0    517402\n",
       "1      8352\n",
       "Name: status, dtype: int64"
      ]
     },
     "execution_count": 5,
     "metadata": {},
     "output_type": "execute_result"
    }
   ],
   "source": [
    "df.status.value_counts()"
   ]
  },
  {
   "cell_type": "code",
   "execution_count": 6,
   "id": "1d244a81",
   "metadata": {},
   "outputs": [],
   "source": [
    "#task:1 Analysis the dataset using seaborn / matplotlib / scatter\n",
    "#task:3 Do sampling on given dataset and Create ML model and evaluate model by cross validation again\n",
    "#task:4 Evaluate all results"
   ]
  },
  {
   "cell_type": "markdown",
   "id": "589a0a8e",
   "metadata": {},
   "source": [
    "# task:1"
   ]
  },
  {
   "cell_type": "code",
   "execution_count": 7,
   "id": "2c15d1e5",
   "metadata": {},
   "outputs": [
    {
     "name": "stderr",
     "output_type": "stream",
     "text": [
      "C:\\Users\\User\\anaconda3\\lib\\site-packages\\seaborn\\_decorators.py:36: FutureWarning: Pass the following variable as a keyword arg: x. From version 0.12, the only valid positional argument will be `data`, and passing other arguments without an explicit keyword will result in an error or misinterpretation.\n",
      "  warnings.warn(\n"
     ]
    },
    {
     "data": {
      "text/plain": [
       "<AxesSubplot:xlabel='status', ylabel='count'>"
      ]
     },
     "execution_count": 7,
     "metadata": {},
     "output_type": "execute_result"
    },
    {
     "data": {
      "image/png": "[encoded data removed]",
      "text/plain": [
       "<Figure size 432x288 with 1 Axes>"
      ]
     },
     "metadata": {
      "needs_background": "light"
     },
     "output_type": "display_data"
    }
   ],
   "source": [
    "sns.countplot(df['status'],color='#2B00FF')"
   ]
  },
  {
   "cell_type": "code",
   "execution_count": 8,
   "id": "3b1e42f2",
   "metadata": {},
   "outputs": [],
   "source": [
    "df = df.dropna()"
   ]
  },
  {
   "cell_type": "code",
   "execution_count": 9,
   "id": "eebc81a1",
   "metadata": {},
   "outputs": [],
   "source": [
    "#drop duplicates\n",
    "df.drop_duplicates(inplace=True)"
   ]
  },
  {
   "cell_type": "code",
   "execution_count": 10,
   "id": "830f73c0",
   "metadata": {},
   "outputs": [
    {
     "data": {
      "text/plain": [
       "(451085, 22)"
      ]
     },
     "execution_count": 10,
     "metadata": {},
     "output_type": "execute_result"
    }
   ],
   "source": [
    "df.shape"
   ]
  },
  {
   "cell_type": "code",
   "execution_count": 11,
   "id": "01054616",
   "metadata": {},
   "outputs": [
    {
     "data": {
      "text/html": [
       "<div>\n",
       "<style scoped>\n",
       "    .dataframe tbody tr th:only-of-type {\n",
       "        vertical-align: middle;\n",
       "    }\n",
       "\n",
       "    .dataframe tbody tr th {\n",
       "        vertical-align: top;\n",
       "    }\n",
       "\n",
       "    .dataframe thead th {\n",
       "        text-align: right;\n",
       "    }\n",
       "</style>\n",
       "<table border=\"1\" class=\"dataframe\">\n",
       "  <thead>\n",
       "    <tr style=\"text-align: right;\">\n",
       "      <th></th>\n",
       "      <th>total_number_char_C</th>\n",
       "      <th>Vocabulary_richness_W/C</th>\n",
       "      <th>Account</th>\n",
       "      <th>Access</th>\n",
       "      <th>Bank</th>\n",
       "      <th>Credit</th>\n",
       "      <th>Click</th>\n",
       "      <th>Identity</th>\n",
       "      <th>Inconvenience</th>\n",
       "      <th>Information</th>\n",
       "      <th>...</th>\n",
       "      <th>Password</th>\n",
       "      <th>Recently</th>\n",
       "      <th>Risk</th>\n",
       "      <th>Social</th>\n",
       "      <th>Security</th>\n",
       "      <th>Service</th>\n",
       "      <th>Suspended</th>\n",
       "      <th>total_number</th>\n",
       "      <th>words</th>\n",
       "      <th>status</th>\n",
       "    </tr>\n",
       "  </thead>\n",
       "  <tbody>\n",
       "    <tr>\n",
       "      <th>total_number_char_C</th>\n",
       "      <td>1.000000</td>\n",
       "      <td>-0.002116</td>\n",
       "      <td>0.083265</td>\n",
       "      <td>0.152107</td>\n",
       "      <td>0.191894</td>\n",
       "      <td>0.204276</td>\n",
       "      <td>0.060481</td>\n",
       "      <td>0.042419</td>\n",
       "      <td>0.030526</td>\n",
       "      <td>0.185307</td>\n",
       "      <td>...</td>\n",
       "      <td>0.006735</td>\n",
       "      <td>0.271126</td>\n",
       "      <td>0.135223</td>\n",
       "      <td>0.062420</td>\n",
       "      <td>0.108267</td>\n",
       "      <td>0.259593</td>\n",
       "      <td>0.099211</td>\n",
       "      <td>0.008601</td>\n",
       "      <td>0.778506</td>\n",
       "      <td>0.051091</td>\n",
       "    </tr>\n",
       "    <tr>\n",
       "      <th>Vocabulary_richness_W/C</th>\n",
       "      <td>-0.002116</td>\n",
       "      <td>1.000000</td>\n",
       "      <td>0.016879</td>\n",
       "      <td>0.071430</td>\n",
       "      <td>0.066452</td>\n",
       "      <td>0.084877</td>\n",
       "      <td>0.054371</td>\n",
       "      <td>0.003991</td>\n",
       "      <td>0.000312</td>\n",
       "      <td>0.115901</td>\n",
       "      <td>...</td>\n",
       "      <td>0.027050</td>\n",
       "      <td>0.100285</td>\n",
       "      <td>0.110754</td>\n",
       "      <td>0.027247</td>\n",
       "      <td>0.035346</td>\n",
       "      <td>0.113242</td>\n",
       "      <td>0.028337</td>\n",
       "      <td>0.072776</td>\n",
       "      <td>0.143075</td>\n",
       "      <td>-0.105144</td>\n",
       "    </tr>\n",
       "    <tr>\n",
       "      <th>Account</th>\n",
       "      <td>0.083265</td>\n",
       "      <td>0.016879</td>\n",
       "      <td>1.000000</td>\n",
       "      <td>0.179427</td>\n",
       "      <td>0.139401</td>\n",
       "      <td>0.080516</td>\n",
       "      <td>0.088878</td>\n",
       "      <td>0.137322</td>\n",
       "      <td>0.229636</td>\n",
       "      <td>0.127405</td>\n",
       "      <td>...</td>\n",
       "      <td>0.103202</td>\n",
       "      <td>0.122712</td>\n",
       "      <td>0.022294</td>\n",
       "      <td>0.020610</td>\n",
       "      <td>0.237170</td>\n",
       "      <td>0.076579</td>\n",
       "      <td>0.114873</td>\n",
       "      <td>0.409819</td>\n",
       "      <td>0.108540</td>\n",
       "      <td>0.497483</td>\n",
       "    </tr>\n",
       "    <tr>\n",
       "      <th>Access</th>\n",
       "      <td>0.152107</td>\n",
       "      <td>0.071430</td>\n",
       "      <td>0.179427</td>\n",
       "      <td>1.000000</td>\n",
       "      <td>0.114669</td>\n",
       "      <td>0.116968</td>\n",
       "      <td>0.096599</td>\n",
       "      <td>0.045184</td>\n",
       "      <td>0.079793</td>\n",
       "      <td>0.206722</td>\n",
       "      <td>...</td>\n",
       "      <td>0.102375</td>\n",
       "      <td>0.155169</td>\n",
       "      <td>0.085121</td>\n",
       "      <td>0.019349</td>\n",
       "      <td>0.178466</td>\n",
       "      <td>0.310509</td>\n",
       "      <td>0.056917</td>\n",
       "      <td>0.308671</td>\n",
       "      <td>0.261473</td>\n",
       "      <td>0.081013</td>\n",
       "    </tr>\n",
       "    <tr>\n",
       "      <th>Bank</th>\n",
       "      <td>0.191894</td>\n",
       "      <td>0.066452</td>\n",
       "      <td>0.139401</td>\n",
       "      <td>0.114669</td>\n",
       "      <td>1.000000</td>\n",
       "      <td>0.369442</td>\n",
       "      <td>0.027049</td>\n",
       "      <td>0.047031</td>\n",
       "      <td>0.023036</td>\n",
       "      <td>0.108247</td>\n",
       "      <td>...</td>\n",
       "      <td>0.007522</td>\n",
       "      <td>0.214060</td>\n",
       "      <td>0.202636</td>\n",
       "      <td>0.043333</td>\n",
       "      <td>0.111601</td>\n",
       "      <td>0.213697</td>\n",
       "      <td>0.065849</td>\n",
       "      <td>0.156501</td>\n",
       "      <td>0.293280</td>\n",
       "      <td>0.124631</td>\n",
       "    </tr>\n",
       "    <tr>\n",
       "      <th>Credit</th>\n",
       "      <td>0.204276</td>\n",
       "      <td>0.084877</td>\n",
       "      <td>0.080516</td>\n",
       "      <td>0.116968</td>\n",
       "      <td>0.369442</td>\n",
       "      <td>1.000000</td>\n",
       "      <td>0.023917</td>\n",
       "      <td>0.042751</td>\n",
       "      <td>0.020260</td>\n",
       "      <td>0.125355</td>\n",
       "      <td>...</td>\n",
       "      <td>-0.001671</td>\n",
       "      <td>0.187718</td>\n",
       "      <td>0.279082</td>\n",
       "      <td>0.022006</td>\n",
       "      <td>0.077355</td>\n",
       "      <td>0.243998</td>\n",
       "      <td>0.070255</td>\n",
       "      <td>0.200742</td>\n",
       "      <td>0.311056</td>\n",
       "      <td>0.012774</td>\n",
       "    </tr>\n",
       "    <tr>\n",
       "      <th>Click</th>\n",
       "      <td>0.060481</td>\n",
       "      <td>0.054371</td>\n",
       "      <td>0.088878</td>\n",
       "      <td>0.096599</td>\n",
       "      <td>0.027049</td>\n",
       "      <td>0.023917</td>\n",
       "      <td>1.000000</td>\n",
       "      <td>0.017591</td>\n",
       "      <td>0.014315</td>\n",
       "      <td>0.100119</td>\n",
       "      <td>...</td>\n",
       "      <td>0.086355</td>\n",
       "      <td>0.020944</td>\n",
       "      <td>0.033421</td>\n",
       "      <td>0.007559</td>\n",
       "      <td>0.044626</td>\n",
       "      <td>0.074350</td>\n",
       "      <td>0.024757</td>\n",
       "      <td>0.276980</td>\n",
       "      <td>0.120016</td>\n",
       "      <td>0.055107</td>\n",
       "    </tr>\n",
       "    <tr>\n",
       "      <th>Identity</th>\n",
       "      <td>0.042419</td>\n",
       "      <td>0.003991</td>\n",
       "      <td>0.137322</td>\n",
       "      <td>0.045184</td>\n",
       "      <td>0.047031</td>\n",
       "      <td>0.042751</td>\n",
       "      <td>0.017591</td>\n",
       "      <td>1.000000</td>\n",
       "      <td>0.046390</td>\n",
       "      <td>0.076662</td>\n",
       "      <td>...</td>\n",
       "      <td>0.009521</td>\n",
       "      <td>0.046700</td>\n",
       "      <td>0.007388</td>\n",
       "      <td>0.022728</td>\n",
       "      <td>0.077295</td>\n",
       "      <td>0.055467</td>\n",
       "      <td>0.031660</td>\n",
       "      <td>0.101277</td>\n",
       "      <td>0.053712</td>\n",
       "      <td>0.147700</td>\n",
       "    </tr>\n",
       "    <tr>\n",
       "      <th>Inconvenience</th>\n",
       "      <td>0.030526</td>\n",
       "      <td>0.000312</td>\n",
       "      <td>0.229636</td>\n",
       "      <td>0.079793</td>\n",
       "      <td>0.023036</td>\n",
       "      <td>0.020260</td>\n",
       "      <td>0.014315</td>\n",
       "      <td>0.046390</td>\n",
       "      <td>1.000000</td>\n",
       "      <td>0.030029</td>\n",
       "      <td>...</td>\n",
       "      <td>0.027340</td>\n",
       "      <td>0.044667</td>\n",
       "      <td>0.005357</td>\n",
       "      <td>0.001749</td>\n",
       "      <td>0.133371</td>\n",
       "      <td>0.027418</td>\n",
       "      <td>0.037234</td>\n",
       "      <td>0.146563</td>\n",
       "      <td>0.038117</td>\n",
       "      <td>0.174929</td>\n",
       "    </tr>\n",
       "    <tr>\n",
       "      <th>Information</th>\n",
       "      <td>0.185307</td>\n",
       "      <td>0.115901</td>\n",
       "      <td>0.127405</td>\n",
       "      <td>0.206722</td>\n",
       "      <td>0.108247</td>\n",
       "      <td>0.125355</td>\n",
       "      <td>0.100119</td>\n",
       "      <td>0.076662</td>\n",
       "      <td>0.030029</td>\n",
       "      <td>1.000000</td>\n",
       "      <td>...</td>\n",
       "      <td>0.037702</td>\n",
       "      <td>0.177508</td>\n",
       "      <td>0.139575</td>\n",
       "      <td>0.044645</td>\n",
       "      <td>0.150214</td>\n",
       "      <td>0.231139</td>\n",
       "      <td>0.051673</td>\n",
       "      <td>0.292002</td>\n",
       "      <td>0.303651</td>\n",
       "      <td>0.061520</td>\n",
       "    </tr>\n",
       "    <tr>\n",
       "      <th>Limited</th>\n",
       "      <td>0.246313</td>\n",
       "      <td>0.106885</td>\n",
       "      <td>0.167973</td>\n",
       "      <td>0.160009</td>\n",
       "      <td>0.252722</td>\n",
       "      <td>0.351086</td>\n",
       "      <td>0.083914</td>\n",
       "      <td>0.046888</td>\n",
       "      <td>0.080864</td>\n",
       "      <td>0.190200</td>\n",
       "      <td>...</td>\n",
       "      <td>0.017365</td>\n",
       "      <td>0.281431</td>\n",
       "      <td>0.133351</td>\n",
       "      <td>0.030336</td>\n",
       "      <td>0.122529</td>\n",
       "      <td>0.286592</td>\n",
       "      <td>0.101100</td>\n",
       "      <td>0.135955</td>\n",
       "      <td>0.371636</td>\n",
       "      <td>0.058263</td>\n",
       "    </tr>\n",
       "    <tr>\n",
       "      <th>Minutes</th>\n",
       "      <td>0.093064</td>\n",
       "      <td>0.068760</td>\n",
       "      <td>0.021175</td>\n",
       "      <td>0.073901</td>\n",
       "      <td>0.032711</td>\n",
       "      <td>0.024523</td>\n",
       "      <td>0.043377</td>\n",
       "      <td>0.007946</td>\n",
       "      <td>0.014593</td>\n",
       "      <td>0.056707</td>\n",
       "      <td>...</td>\n",
       "      <td>0.000363</td>\n",
       "      <td>0.054721</td>\n",
       "      <td>0.026294</td>\n",
       "      <td>0.011534</td>\n",
       "      <td>0.023611</td>\n",
       "      <td>0.059178</td>\n",
       "      <td>0.026900</td>\n",
       "      <td>0.100717</td>\n",
       "      <td>0.153513</td>\n",
       "      <td>0.010951</td>\n",
       "    </tr>\n",
       "    <tr>\n",
       "      <th>Password</th>\n",
       "      <td>0.006735</td>\n",
       "      <td>0.027050</td>\n",
       "      <td>0.103202</td>\n",
       "      <td>0.102375</td>\n",
       "      <td>0.007522</td>\n",
       "      <td>-0.001671</td>\n",
       "      <td>0.086355</td>\n",
       "      <td>0.009521</td>\n",
       "      <td>0.027340</td>\n",
       "      <td>0.037702</td>\n",
       "      <td>...</td>\n",
       "      <td>1.000000</td>\n",
       "      <td>0.009948</td>\n",
       "      <td>-0.001334</td>\n",
       "      <td>0.003996</td>\n",
       "      <td>0.109842</td>\n",
       "      <td>0.014693</td>\n",
       "      <td>0.008341</td>\n",
       "      <td>0.269528</td>\n",
       "      <td>0.013661</td>\n",
       "      <td>0.070248</td>\n",
       "    </tr>\n",
       "    <tr>\n",
       "      <th>Recently</th>\n",
       "      <td>0.271126</td>\n",
       "      <td>0.100285</td>\n",
       "      <td>0.122712</td>\n",
       "      <td>0.155169</td>\n",
       "      <td>0.214060</td>\n",
       "      <td>0.187718</td>\n",
       "      <td>0.020944</td>\n",
       "      <td>0.046700</td>\n",
       "      <td>0.044667</td>\n",
       "      <td>0.177508</td>\n",
       "      <td>...</td>\n",
       "      <td>0.009948</td>\n",
       "      <td>1.000000</td>\n",
       "      <td>0.124687</td>\n",
       "      <td>0.128071</td>\n",
       "      <td>0.151618</td>\n",
       "      <td>0.279959</td>\n",
       "      <td>0.085548</td>\n",
       "      <td>0.084814</td>\n",
       "      <td>0.409054</td>\n",
       "      <td>0.049945</td>\n",
       "    </tr>\n",
       "    <tr>\n",
       "      <th>Risk</th>\n",
       "      <td>0.135223</td>\n",
       "      <td>0.110754</td>\n",
       "      <td>0.022294</td>\n",
       "      <td>0.085121</td>\n",
       "      <td>0.202636</td>\n",
       "      <td>0.279082</td>\n",
       "      <td>0.033421</td>\n",
       "      <td>0.007388</td>\n",
       "      <td>0.005357</td>\n",
       "      <td>0.139575</td>\n",
       "      <td>...</td>\n",
       "      <td>-0.001334</td>\n",
       "      <td>0.124687</td>\n",
       "      <td>1.000000</td>\n",
       "      <td>0.028890</td>\n",
       "      <td>0.048787</td>\n",
       "      <td>0.112977</td>\n",
       "      <td>0.031199</td>\n",
       "      <td>0.218126</td>\n",
       "      <td>0.236722</td>\n",
       "      <td>-0.019369</td>\n",
       "    </tr>\n",
       "    <tr>\n",
       "      <th>Social</th>\n",
       "      <td>0.062420</td>\n",
       "      <td>0.027247</td>\n",
       "      <td>0.020610</td>\n",
       "      <td>0.019349</td>\n",
       "      <td>0.043333</td>\n",
       "      <td>0.022006</td>\n",
       "      <td>0.007559</td>\n",
       "      <td>0.022728</td>\n",
       "      <td>0.001749</td>\n",
       "      <td>0.044645</td>\n",
       "      <td>...</td>\n",
       "      <td>0.003996</td>\n",
       "      <td>0.128071</td>\n",
       "      <td>0.028890</td>\n",
       "      <td>1.000000</td>\n",
       "      <td>0.324573</td>\n",
       "      <td>0.055777</td>\n",
       "      <td>0.020886</td>\n",
       "      <td>0.044555</td>\n",
       "      <td>0.099018</td>\n",
       "      <td>0.006355</td>\n",
       "    </tr>\n",
       "    <tr>\n",
       "      <th>Security</th>\n",
       "      <td>0.108267</td>\n",
       "      <td>0.035346</td>\n",
       "      <td>0.237170</td>\n",
       "      <td>0.178466</td>\n",
       "      <td>0.111601</td>\n",
       "      <td>0.077355</td>\n",
       "      <td>0.044626</td>\n",
       "      <td>0.077295</td>\n",
       "      <td>0.133371</td>\n",
       "      <td>0.150214</td>\n",
       "      <td>...</td>\n",
       "      <td>0.109842</td>\n",
       "      <td>0.151618</td>\n",
       "      <td>0.048787</td>\n",
       "      <td>0.324573</td>\n",
       "      <td>1.000000</td>\n",
       "      <td>0.150242</td>\n",
       "      <td>0.056373</td>\n",
       "      <td>0.269612</td>\n",
       "      <td>0.163471</td>\n",
       "      <td>0.185545</td>\n",
       "    </tr>\n",
       "    <tr>\n",
       "      <th>Service</th>\n",
       "      <td>0.259593</td>\n",
       "      <td>0.113242</td>\n",
       "      <td>0.076579</td>\n",
       "      <td>0.310509</td>\n",
       "      <td>0.213697</td>\n",
       "      <td>0.243998</td>\n",
       "      <td>0.074350</td>\n",
       "      <td>0.055467</td>\n",
       "      <td>0.027418</td>\n",
       "      <td>0.231139</td>\n",
       "      <td>...</td>\n",
       "      <td>0.014693</td>\n",
       "      <td>0.279959</td>\n",
       "      <td>0.112977</td>\n",
       "      <td>0.055777</td>\n",
       "      <td>0.150242</td>\n",
       "      <td>1.000000</td>\n",
       "      <td>0.092223</td>\n",
       "      <td>0.156978</td>\n",
       "      <td>0.404571</td>\n",
       "      <td>0.023631</td>\n",
       "    </tr>\n",
       "    <tr>\n",
       "      <th>Suspended</th>\n",
       "      <td>0.099211</td>\n",
       "      <td>0.028337</td>\n",
       "      <td>0.114873</td>\n",
       "      <td>0.056917</td>\n",
       "      <td>0.065849</td>\n",
       "      <td>0.070255</td>\n",
       "      <td>0.024757</td>\n",
       "      <td>0.031660</td>\n",
       "      <td>0.037234</td>\n",
       "      <td>0.051673</td>\n",
       "      <td>...</td>\n",
       "      <td>0.008341</td>\n",
       "      <td>0.085548</td>\n",
       "      <td>0.031199</td>\n",
       "      <td>0.020886</td>\n",
       "      <td>0.056373</td>\n",
       "      <td>0.092223</td>\n",
       "      <td>1.000000</td>\n",
       "      <td>0.079803</td>\n",
       "      <td>0.140697</td>\n",
       "      <td>0.095063</td>\n",
       "    </tr>\n",
       "    <tr>\n",
       "      <th>total_number</th>\n",
       "      <td>0.008601</td>\n",
       "      <td>0.072776</td>\n",
       "      <td>0.409819</td>\n",
       "      <td>0.308671</td>\n",
       "      <td>0.156501</td>\n",
       "      <td>0.200742</td>\n",
       "      <td>0.276980</td>\n",
       "      <td>0.101277</td>\n",
       "      <td>0.146563</td>\n",
       "      <td>0.292002</td>\n",
       "      <td>...</td>\n",
       "      <td>0.269528</td>\n",
       "      <td>0.084814</td>\n",
       "      <td>0.218126</td>\n",
       "      <td>0.044555</td>\n",
       "      <td>0.269612</td>\n",
       "      <td>0.156978</td>\n",
       "      <td>0.079803</td>\n",
       "      <td>1.000000</td>\n",
       "      <td>0.025764</td>\n",
       "      <td>0.288569</td>\n",
       "    </tr>\n",
       "    <tr>\n",
       "      <th>words</th>\n",
       "      <td>0.778506</td>\n",
       "      <td>0.143075</td>\n",
       "      <td>0.108540</td>\n",
       "      <td>0.261473</td>\n",
       "      <td>0.293280</td>\n",
       "      <td>0.311056</td>\n",
       "      <td>0.120016</td>\n",
       "      <td>0.053712</td>\n",
       "      <td>0.038117</td>\n",
       "      <td>0.303651</td>\n",
       "      <td>...</td>\n",
       "      <td>0.013661</td>\n",
       "      <td>0.409054</td>\n",
       "      <td>0.236722</td>\n",
       "      <td>0.099018</td>\n",
       "      <td>0.163471</td>\n",
       "      <td>0.404571</td>\n",
       "      <td>0.140697</td>\n",
       "      <td>0.025764</td>\n",
       "      <td>1.000000</td>\n",
       "      <td>0.018325</td>\n",
       "    </tr>\n",
       "    <tr>\n",
       "      <th>status</th>\n",
       "      <td>0.051091</td>\n",
       "      <td>-0.105144</td>\n",
       "      <td>0.497483</td>\n",
       "      <td>0.081013</td>\n",
       "      <td>0.124631</td>\n",
       "      <td>0.012774</td>\n",
       "      <td>0.055107</td>\n",
       "      <td>0.147700</td>\n",
       "      <td>0.174929</td>\n",
       "      <td>0.061520</td>\n",
       "      <td>...</td>\n",
       "      <td>0.070248</td>\n",
       "      <td>0.049945</td>\n",
       "      <td>-0.019369</td>\n",
       "      <td>0.006355</td>\n",
       "      <td>0.185545</td>\n",
       "      <td>0.023631</td>\n",
       "      <td>0.095063</td>\n",
       "      <td>0.288569</td>\n",
       "      <td>0.018325</td>\n",
       "      <td>1.000000</td>\n",
       "    </tr>\n",
       "  </tbody>\n",
       "</table>\n",
       "<p>22 rows × 22 columns</p>\n",
       "</div>"
      ],
      "text/plain": [
       "                         total_number_char_C  Vocabulary_richness_W/C  \\\n",
       "total_number_char_C                 1.000000                -0.002116   \n",
       "Vocabulary_richness_W/C            -0.002116                 1.000000   \n",
       "Account                             0.083265                 0.016879   \n",
       "Access                              0.152107                 0.071430   \n",
       "Bank                                0.191894                 0.066452   \n",
       "Credit                              0.204276                 0.084877   \n",
       "Click                               0.060481                 0.054371   \n",
       "Identity                            0.042419                 0.003991   \n",
       "Inconvenience                       0.030526                 0.000312   \n",
       "Information                         0.185307                 0.115901   \n",
       "Limited                             0.246313                 0.106885   \n",
       "Minutes                             0.093064                 0.068760   \n",
       "Password                            0.006735                 0.027050   \n",
       "Recently                            0.271126                 0.100285   \n",
       "Risk                                0.135223                 0.110754   \n",
       "Social                              0.062420                 0.027247   \n",
       "Security                            0.108267                 0.035346   \n",
       "Service                             0.259593                 0.113242   \n",
       "Suspended                           0.099211                 0.028337   \n",
       "total_number                        0.008601                 0.072776   \n",
       "words                               0.778506                 0.143075   \n",
       "status                              0.051091                -0.105144   \n",
       "\n",
       "                          Account    Access      Bank    Credit     Click  \\\n",
       "total_number_char_C      0.083265  0.152107  0.191894  0.204276  0.060481   \n",
       "Vocabulary_richness_W/C  0.016879  0.071430  0.066452  0.084877  0.054371   \n",
       "Account                  1.000000  0.179427  0.139401  0.080516  0.088878   \n",
       "Access                   0.179427  1.000000  0.114669  0.116968  0.096599   \n",
       "Bank                     0.139401  0.114669  1.000000  0.369442  0.027049   \n",
       "Credit                   0.080516  0.116968  0.369442  1.000000  0.023917   \n",
       "Click                    0.088878  0.096599  0.027049  0.023917  1.000000   \n",
       "Identity                 0.137322  0.045184  0.047031  0.042751  0.017591   \n",
       "Inconvenience            0.229636  0.079793  0.023036  0.020260  0.014315   \n",
       "Information              0.127405  0.206722  0.108247  0.125355  0.100119   \n",
       "Limited                  0.167973  0.160009  0.252722  0.351086  0.083914   \n",
       "Minutes                  0.021175  0.073901  0.032711  0.024523  0.043377   \n",
       "Password                 0.103202  0.102375  0.007522 -0.001671  0.086355   \n",
       "Recently                 0.122712  0.155169  0.214060  0.187718  0.020944   \n",
       "Risk                     0.022294  0.085121  0.202636  0.279082  0.033421   \n",
       "Social                   0.020610  0.019349  0.043333  0.022006  0.007559   \n",
       "Security                 0.237170  0.178466  0.111601  0.077355  0.044626   \n",
       "Service                  0.076579  0.310509  0.213697  0.243998  0.074350   \n",
       "Suspended                0.114873  0.056917  0.065849  0.070255  0.024757   \n",
       "total_number             0.409819  0.308671  0.156501  0.200742  0.276980   \n",
       "words                    0.108540  0.261473  0.293280  0.311056  0.120016   \n",
       "status                   0.497483  0.081013  0.124631  0.012774  0.055107   \n",
       "\n",
       "                         Identity  Inconvenience  Information  ...  Password  \\\n",
       "total_number_char_C      0.042419       0.030526     0.185307  ...  0.006735   \n",
       "Vocabulary_richness_W/C  0.003991       0.000312     0.115901  ...  0.027050   \n",
       "Account                  0.137322       0.229636     0.127405  ...  0.103202   \n",
       "Access                   0.045184       0.079793     0.206722  ...  0.102375   \n",
       "Bank                     0.047031       0.023036     0.108247  ...  0.007522   \n",
       "Credit                   0.042751       0.020260     0.125355  ... -0.001671   \n",
       "Click                    0.017591       0.014315     0.100119  ...  0.086355   \n",
       "Identity                 1.000000       0.046390     0.076662  ...  0.009521   \n",
       "Inconvenience            0.046390       1.000000     0.030029  ...  0.027340   \n",
       "Information              0.076662       0.030029     1.000000  ...  0.037702   \n",
       "Limited                  0.046888       0.080864     0.190200  ...  0.017365   \n",
       "Minutes                  0.007946       0.014593     0.056707  ...  0.000363   \n",
       "Password                 0.009521       0.027340     0.037702  ...  1.000000   \n",
       "Recently                 0.046700       0.044667     0.177508  ...  0.009948   \n",
       "Risk                     0.007388       0.005357     0.139575  ... -0.001334   \n",
       "Social                   0.022728       0.001749     0.044645  ...  0.003996   \n",
       "Security                 0.077295       0.133371     0.150214  ...  0.109842   \n",
       "Service                  0.055467       0.027418     0.231139  ...  0.014693   \n",
       "Suspended                0.031660       0.037234     0.051673  ...  0.008341   \n",
       "total_number             0.101277       0.146563     0.292002  ...  0.269528   \n",
       "words                    0.053712       0.038117     0.303651  ...  0.013661   \n",
       "status                   0.147700       0.174929     0.061520  ...  0.070248   \n",
       "\n",
       "                         Recently      Risk    Social  Security   Service  \\\n",
       "total_number_char_C      0.271126  0.135223  0.062420  0.108267  0.259593   \n",
       "Vocabulary_richness_W/C  0.100285  0.110754  0.027247  0.035346  0.113242   \n",
       "Account                  0.122712  0.022294  0.020610  0.237170  0.076579   \n",
       "Access                   0.155169  0.085121  0.019349  0.178466  0.310509   \n",
       "Bank                     0.214060  0.202636  0.043333  0.111601  0.213697   \n",
       "Credit                   0.187718  0.279082  0.022006  0.077355  0.243998   \n",
       "Click                    0.020944  0.033421  0.007559  0.044626  0.074350   \n",
       "Identity                 0.046700  0.007388  0.022728  0.077295  0.055467   \n",
       "Inconvenience            0.044667  0.005357  0.001749  0.133371  0.027418   \n",
       "Information              0.177508  0.139575  0.044645  0.150214  0.231139   \n",
       "Limited                  0.281431  0.133351  0.030336  0.122529  0.286592   \n",
       "Minutes                  0.054721  0.026294  0.011534  0.023611  0.059178   \n",
       "Password                 0.009948 -0.001334  0.003996  0.109842  0.014693   \n",
       "Recently                 1.000000  0.124687  0.128071  0.151618  0.279959   \n",
       "Risk                     0.124687  1.000000  0.028890  0.048787  0.112977   \n",
       "Social                   0.128071  0.028890  1.000000  0.324573  0.055777   \n",
       "Security                 0.151618  0.048787  0.324573  1.000000  0.150242   \n",
       "Service                  0.279959  0.112977  0.055777  0.150242  1.000000   \n",
       "Suspended                0.085548  0.031199  0.020886  0.056373  0.092223   \n",
       "total_number             0.084814  0.218126  0.044555  0.269612  0.156978   \n",
       "words                    0.409054  0.236722  0.099018  0.163471  0.404571   \n",
       "status                   0.049945 -0.019369  0.006355  0.185545  0.023631   \n",
       "\n",
       "                         Suspended  total_number     words    status  \n",
       "total_number_char_C       0.099211      0.008601  0.778506  0.051091  \n",
       "Vocabulary_richness_W/C   0.028337      0.072776  0.143075 -0.105144  \n",
       "Account                   0.114873      0.409819  0.108540  0.497483  \n",
       "Access                    0.056917      0.308671  0.261473  0.081013  \n",
       "Bank                      0.065849      0.156501  0.293280  0.124631  \n",
       "Credit                    0.070255      0.200742  0.311056  0.012774  \n",
       "Click                     0.024757      0.276980  0.120016  0.055107  \n",
       "Identity                  0.031660      0.101277  0.053712  0.147700  \n",
       "Inconvenience             0.037234      0.146563  0.038117  0.174929  \n",
       "Information               0.051673      0.292002  0.303651  0.061520  \n",
       "Limited                   0.101100      0.135955  0.371636  0.058263  \n",
       "Minutes                   0.026900      0.100717  0.153513  0.010951  \n",
       "Password                  0.008341      0.269528  0.013661  0.070248  \n",
       "Recently                  0.085548      0.084814  0.409054  0.049945  \n",
       "Risk                      0.031199      0.218126  0.236722 -0.019369  \n",
       "Social                    0.020886      0.044555  0.099018  0.006355  \n",
       "Security                  0.056373      0.269612  0.163471  0.185545  \n",
       "Service                   0.092223      0.156978  0.404571  0.023631  \n",
       "Suspended                 1.000000      0.079803  0.140697  0.095063  \n",
       "total_number              0.079803      1.000000  0.025764  0.288569  \n",
       "words                     0.140697      0.025764  1.000000  0.018325  \n",
       "status                    0.095063      0.288569  0.018325  1.000000  \n",
       "\n",
       "[22 rows x 22 columns]"
      ]
     },
     "execution_count": 11,
     "metadata": {},
     "output_type": "execute_result"
    }
   ],
   "source": [
    "df.corr()"
   ]
  },
  {
   "cell_type": "code",
   "execution_count": 12,
   "id": "b2730e9e",
   "metadata": {},
   "outputs": [
    {
     "data": {
      "text/plain": [
       "<AxesSubplot:>"
      ]
     },
     "execution_count": 12,
     "metadata": {},
     "output_type": "execute_result"
    },
    {
     "data": {
      "image/png": "[encoded data removed]",
      "text/plain": [
       "<Figure size 432x288 with 2 Axes>"
      ]
     },
     "metadata": {
      "needs_background": "light"
     },
     "output_type": "display_data"
    }
   ],
   "source": [
    "sns.heatmap(df.corr() , annot=True)"
   ]
  },
  {
   "cell_type": "code",
   "execution_count": 13,
   "id": "f016f95e",
   "metadata": {},
   "outputs": [
    {
     "data": {
      "text/plain": [
       "<AxesSubplot:xlabel='Risk', ylabel='count'>"
      ]
     },
     "execution_count": 13,
     "metadata": {},
     "output_type": "execute_result"
    },
    {
     "data": {
      "image/png": "[encoded data removed]",
      "text/plain": [
       "<Figure size 432x288 with 1 Axes>"
      ]
     },
     "metadata": {
      "needs_background": "light"
     },
     "output_type": "display_data"
    }
   ],
   "source": [
    "sns.countplot(x = 'Risk', hue='status', data=df)"
   ]
  },
  {
   "cell_type": "code",
   "execution_count": 14,
   "id": "b901d1dd",
   "metadata": {},
   "outputs": [
    {
     "data": {
      "text/plain": [
       "<AxesSubplot:xlabel='Security', ylabel='count'>"
      ]
     },
     "execution_count": 14,
     "metadata": {},
     "output_type": "execute_result"
    },
    {
     "data": {
      "image/png": "[encoded data removed]",
      "text/plain": [
       "<Figure size 432x288 with 1 Axes>"
      ]
     },
     "metadata": {
      "needs_background": "light"
     },
     "output_type": "display_data"
    }
   ],
   "source": [
    "sns.countplot(x = 'Security', hue='status', data=df)"
   ]
  },
  {
   "cell_type": "markdown",
   "id": "6f1a59a7",
   "metadata": {},
   "source": [
    "# task3"
   ]
  },
  {
   "cell_type": "markdown",
   "id": "7dd5637c",
   "metadata": {},
   "source": [
    "# seperate x, y"
   ]
  },
  {
   "cell_type": "code",
   "execution_count": 15,
   "id": "d8152962",
   "metadata": {},
   "outputs": [],
   "source": [
    "x = df.drop('status',axis=1) #separate dependent and independent variable\n",
    "y = df['status']"
   ]
  },
  {
   "cell_type": "code",
   "execution_count": 16,
   "id": "53bcc662",
   "metadata": {},
   "outputs": [
    {
     "data": {
      "text/html": [
       "<div>\n",
       "<style scoped>\n",
       "    .dataframe tbody tr th:only-of-type {\n",
       "        vertical-align: middle;\n",
       "    }\n",
       "\n",
       "    .dataframe tbody tr th {\n",
       "        vertical-align: top;\n",
       "    }\n",
       "\n",
       "    .dataframe thead th {\n",
       "        text-align: right;\n",
       "    }\n",
       "</style>\n",
       "<table border=\"1\" class=\"dataframe\">\n",
       "  <thead>\n",
       "    <tr style=\"text-align: right;\">\n",
       "      <th></th>\n",
       "      <th>total_number_char_C</th>\n",
       "      <th>Vocabulary_richness_W/C</th>\n",
       "      <th>Account</th>\n",
       "      <th>Access</th>\n",
       "      <th>Bank</th>\n",
       "      <th>Credit</th>\n",
       "      <th>Click</th>\n",
       "      <th>Identity</th>\n",
       "      <th>Inconvenience</th>\n",
       "      <th>Information</th>\n",
       "      <th>...</th>\n",
       "      <th>Minutes</th>\n",
       "      <th>Password</th>\n",
       "      <th>Recently</th>\n",
       "      <th>Risk</th>\n",
       "      <th>Social</th>\n",
       "      <th>Security</th>\n",
       "      <th>Service</th>\n",
       "      <th>Suspended</th>\n",
       "      <th>total_number</th>\n",
       "      <th>words</th>\n",
       "    </tr>\n",
       "  </thead>\n",
       "  <tbody>\n",
       "    <tr>\n",
       "      <th>0</th>\n",
       "      <td>1673</td>\n",
       "      <td>0.128512</td>\n",
       "      <td>2</td>\n",
       "      <td>0</td>\n",
       "      <td>0</td>\n",
       "      <td>0</td>\n",
       "      <td>1</td>\n",
       "      <td>0</td>\n",
       "      <td>0</td>\n",
       "      <td>1</td>\n",
       "      <td>...</td>\n",
       "      <td>0</td>\n",
       "      <td>1</td>\n",
       "      <td>1</td>\n",
       "      <td>0</td>\n",
       "      <td>0</td>\n",
       "      <td>0</td>\n",
       "      <td>0</td>\n",
       "      <td>0</td>\n",
       "      <td>0.027907</td>\n",
       "      <td>132</td>\n",
       "    </tr>\n",
       "    <tr>\n",
       "      <th>1</th>\n",
       "      <td>4465</td>\n",
       "      <td>0.137738</td>\n",
       "      <td>0</td>\n",
       "      <td>0</td>\n",
       "      <td>0</td>\n",
       "      <td>0</td>\n",
       "      <td>0</td>\n",
       "      <td>0</td>\n",
       "      <td>0</td>\n",
       "      <td>4</td>\n",
       "      <td>...</td>\n",
       "      <td>0</td>\n",
       "      <td>0</td>\n",
       "      <td>0</td>\n",
       "      <td>0</td>\n",
       "      <td>0</td>\n",
       "      <td>3</td>\n",
       "      <td>1</td>\n",
       "      <td>0</td>\n",
       "      <td>0.013008</td>\n",
       "      <td>338</td>\n",
       "    </tr>\n",
       "    <tr>\n",
       "      <th>2</th>\n",
       "      <td>6813</td>\n",
       "      <td>0.095993</td>\n",
       "      <td>0</td>\n",
       "      <td>0</td>\n",
       "      <td>0</td>\n",
       "      <td>2</td>\n",
       "      <td>0</td>\n",
       "      <td>0</td>\n",
       "      <td>0</td>\n",
       "      <td>2</td>\n",
       "      <td>...</td>\n",
       "      <td>0</td>\n",
       "      <td>0</td>\n",
       "      <td>0</td>\n",
       "      <td>0</td>\n",
       "      <td>0</td>\n",
       "      <td>0</td>\n",
       "      <td>0</td>\n",
       "      <td>0</td>\n",
       "      <td>0.006116</td>\n",
       "      <td>292</td>\n",
       "    </tr>\n",
       "    <tr>\n",
       "      <th>3</th>\n",
       "      <td>1518</td>\n",
       "      <td>0.109354</td>\n",
       "      <td>0</td>\n",
       "      <td>0</td>\n",
       "      <td>0</td>\n",
       "      <td>1</td>\n",
       "      <td>1</td>\n",
       "      <td>0</td>\n",
       "      <td>0</td>\n",
       "      <td>0</td>\n",
       "      <td>...</td>\n",
       "      <td>0</td>\n",
       "      <td>0</td>\n",
       "      <td>0</td>\n",
       "      <td>0</td>\n",
       "      <td>0</td>\n",
       "      <td>0</td>\n",
       "      <td>0</td>\n",
       "      <td>0</td>\n",
       "      <td>0.012048</td>\n",
       "      <td>102</td>\n",
       "    </tr>\n",
       "    <tr>\n",
       "      <th>4</th>\n",
       "      <td>1881</td>\n",
       "      <td>0.126528</td>\n",
       "      <td>7</td>\n",
       "      <td>3</td>\n",
       "      <td>0</td>\n",
       "      <td>0</td>\n",
       "      <td>0</td>\n",
       "      <td>1</td>\n",
       "      <td>0</td>\n",
       "      <td>2</td>\n",
       "      <td>...</td>\n",
       "      <td>0</td>\n",
       "      <td>0</td>\n",
       "      <td>0</td>\n",
       "      <td>0</td>\n",
       "      <td>0</td>\n",
       "      <td>0</td>\n",
       "      <td>0</td>\n",
       "      <td>2</td>\n",
       "      <td>0.063025</td>\n",
       "      <td>136</td>\n",
       "    </tr>\n",
       "  </tbody>\n",
       "</table>\n",
       "<p>5 rows × 21 columns</p>\n",
       "</div>"
      ],
      "text/plain": [
       "   total_number_char_C  Vocabulary_richness_W/C  Account  Access  Bank  \\\n",
       "0                 1673                 0.128512        2       0     0   \n",
       "1                 4465                 0.137738        0       0     0   \n",
       "2                 6813                 0.095993        0       0     0   \n",
       "3                 1518                 0.109354        0       0     0   \n",
       "4                 1881                 0.126528        7       3     0   \n",
       "\n",
       "   Credit  Click  Identity  Inconvenience  Information  ...  Minutes  \\\n",
       "0       0      1         0              0            1  ...        0   \n",
       "1       0      0         0              0            4  ...        0   \n",
       "2       2      0         0              0            2  ...        0   \n",
       "3       1      1         0              0            0  ...        0   \n",
       "4       0      0         1              0            2  ...        0   \n",
       "\n",
       "   Password  Recently  Risk  Social  Security  Service  Suspended  \\\n",
       "0         1         1     0       0         0        0          0   \n",
       "1         0         0     0       0         3        1          0   \n",
       "2         0         0     0       0         0        0          0   \n",
       "3         0         0     0       0         0        0          0   \n",
       "4         0         0     0       0         0        0          2   \n",
       "\n",
       "   total_number  words  \n",
       "0      0.027907    132  \n",
       "1      0.013008    338  \n",
       "2      0.006116    292  \n",
       "3      0.012048    102  \n",
       "4      0.063025    136  \n",
       "\n",
       "[5 rows x 21 columns]"
      ]
     },
     "execution_count": 16,
     "metadata": {},
     "output_type": "execute_result"
    }
   ],
   "source": [
    "x.head()"
   ]
  },
  {
   "cell_type": "code",
   "execution_count": 17,
   "id": "f234c16b",
   "metadata": {},
   "outputs": [
    {
     "data": {
      "text/plain": [
       "(451085, 21)"
      ]
     },
     "execution_count": 17,
     "metadata": {},
     "output_type": "execute_result"
    }
   ],
   "source": [
    "x.shape"
   ]
  },
  {
   "cell_type": "code",
   "execution_count": 18,
   "id": "91557edb",
   "metadata": {},
   "outputs": [
    {
     "data": {
      "text/plain": [
       "0    1\n",
       "1    1\n",
       "2    1\n",
       "3    1\n",
       "4    1\n",
       "Name: status, dtype: int64"
      ]
     },
     "execution_count": 18,
     "metadata": {},
     "output_type": "execute_result"
    }
   ],
   "source": [
    "y.head()"
   ]
  },
  {
   "cell_type": "code",
   "execution_count": 19,
   "id": "64e6961e",
   "metadata": {},
   "outputs": [
    {
     "data": {
      "text/plain": [
       "(451085,)"
      ]
     },
     "execution_count": 19,
     "metadata": {},
     "output_type": "execute_result"
    }
   ],
   "source": [
    "y.shape"
   ]
  },
  {
   "cell_type": "markdown",
   "id": "1fd91a2f",
   "metadata": {},
   "source": [
    "# Imbalance Data Handling"
   ]
  },
  {
   "cell_type": "code",
   "execution_count": 20,
   "id": "527937aa",
   "metadata": {},
   "outputs": [
    {
     "data": {
      "text/plain": [
       "0    442845\n",
       "1      8240\n",
       "Name: status, dtype: int64"
      ]
     },
     "execution_count": 20,
     "metadata": {},
     "output_type": "execute_result"
    }
   ],
   "source": [
    "df.status.value_counts()"
   ]
  },
  {
   "cell_type": "code",
   "execution_count": 21,
   "id": "4b534f73",
   "metadata": {},
   "outputs": [],
   "source": [
    "not_phishing = (8240/(442845+8240)) * 100\n",
    "phishing = (442845/(442845+8240)) * 100"
   ]
  },
  {
   "cell_type": "code",
   "execution_count": 22,
   "id": "8a330a58",
   "metadata": {},
   "outputs": [
    {
     "name": "stdout",
     "output_type": "stream",
     "text": [
      "Not phishing 1.8267067182460068 percent of total people\n",
      "phishing 98.173293281754 percent of total people\n"
     ]
    }
   ],
   "source": [
    "print('Not phishing {} percent of total people'.format(not_phishing))\n",
    "print('phishing {} percent of total people'.format(phishing))"
   ]
  },
  {
   "cell_type": "markdown",
   "id": "8c54bcea",
   "metadata": {},
   "source": [
    "# Synthetic Minority Oversampling Technique (SMOTETomek)"
   ]
  },
  {
   "cell_type": "code",
   "execution_count": 23,
   "id": "56899546",
   "metadata": {},
   "outputs": [],
   "source": [
    "from imblearn.combine import SMOTETomek"
   ]
  },
  {
   "cell_type": "code",
   "execution_count": 24,
   "id": "e5ae5f6c",
   "metadata": {},
   "outputs": [],
   "source": [
    "sm = SMOTETomek(random_state=42)"
   ]
  },
  {
   "cell_type": "code",
   "execution_count": 25,
   "id": "f89ee3c4",
   "metadata": {},
   "outputs": [
    {
     "data": {
      "text/plain": [
       "0    442845\n",
       "1      8240\n",
       "Name: status, dtype: int64"
      ]
     },
     "execution_count": 25,
     "metadata": {},
     "output_type": "execute_result"
    }
   ],
   "source": [
    "y.value_counts()"
   ]
  },
  {
   "cell_type": "code",
   "execution_count": null,
   "id": "74cc6d6b",
   "metadata": {},
   "outputs": [],
   "source": [
    "X,Y = sm.fit_resample(x,y)"
   ]
  },
  {
   "cell_type": "code",
   "execution_count": null,
   "id": "998d9d73",
   "metadata": {},
   "outputs": [],
   "source": [
    "X.shape"
   ]
  },
  {
   "cell_type": "code",
   "execution_count": null,
   "id": "ee2f4abc",
   "metadata": {},
   "outputs": [],
   "source": [
    "Y.shape"
   ]
  },
  {
   "cell_type": "code",
   "execution_count": null,
   "id": "238b4cd4",
   "metadata": {},
   "outputs": [],
   "source": [
    "Y.value_counts()"
   ]
  },
  {
   "cell_type": "markdown",
   "id": "352caa02",
   "metadata": {},
   "source": [
    "# Near Miss for Under_Sampling"
   ]
  },
  {
   "cell_type": "code",
   "execution_count": null,
   "id": "ce0eaa53",
   "metadata": {},
   "outputs": [],
   "source": [
    "from imblearn.under_sampling import NearMiss"
   ]
  },
  {
   "cell_type": "code",
   "execution_count": null,
   "id": "44f26cfc",
   "metadata": {},
   "outputs": [],
   "source": [
    "NearMiss_obj = NearMiss()\n",
    "new_x , new_y = NearMiss_obj.fit_resample(x,y)"
   ]
  },
  {
   "cell_type": "code",
   "execution_count": null,
   "id": "85ca24d4",
   "metadata": {},
   "outputs": [],
   "source": [
    "new_x.shape"
   ]
  },
  {
   "cell_type": "code",
   "execution_count": null,
   "id": "3f82cb85",
   "metadata": {},
   "outputs": [],
   "source": [
    "new_y"
   ]
  },
  {
   "cell_type": "code",
   "execution_count": null,
   "id": "a391b51c",
   "metadata": {},
   "outputs": [],
   "source": [
    "new_y.value_counts()"
   ]
  },
  {
   "cell_type": "markdown",
   "id": "f80aaaea",
   "metadata": {},
   "source": [
    "# Over Sampling"
   ]
  },
  {
   "cell_type": "code",
   "execution_count": null,
   "id": "1a2dcfab",
   "metadata": {},
   "outputs": [],
   "source": [
    "df.status.value_counts()"
   ]
  },
  {
   "cell_type": "code",
   "execution_count": null,
   "id": "b1d89547",
   "metadata": {},
   "outputs": [],
   "source": [
    "from imblearn.over_sampling import RandomOverSampler"
   ]
  },
  {
   "cell_type": "code",
   "execution_count": null,
   "id": "b61dd558",
   "metadata": {},
   "outputs": [],
   "source": [
    "over = RandomOverSampler(random_state=100)"
   ]
  },
  {
   "cell_type": "code",
   "execution_count": null,
   "id": "7239d8de",
   "metadata": {},
   "outputs": [],
   "source": [
    "x_new , y_new = over.fit_resample(x,y)"
   ]
  },
  {
   "cell_type": "code",
   "execution_count": null,
   "id": "2153a5ea",
   "metadata": {},
   "outputs": [],
   "source": [
    "x_new.shape"
   ]
  },
  {
   "cell_type": "code",
   "execution_count": null,
   "id": "d030703f",
   "metadata": {},
   "outputs": [],
   "source": [
    "y_new.shape"
   ]
  },
  {
   "cell_type": "code",
   "execution_count": null,
   "id": "4e0011ad",
   "metadata": {},
   "outputs": [],
   "source": [
    "y_new.value_counts()"
   ]
  },
  {
   "cell_type": "markdown",
   "id": "e1607e0f",
   "metadata": {},
   "source": [
    "# Cross Validation"
   ]
  },
  {
   "cell_type": "markdown",
   "id": "9325166b",
   "metadata": {},
   "source": [
    "# Hold Out Cross Validation"
   ]
  },
  {
   "cell_type": "code",
   "execution_count": null,
   "id": "468f7fdb",
   "metadata": {},
   "outputs": [],
   "source": [
    "from sklearn.model_selection import train_test_split \n",
    "xtrain,xtest, ytrain,ytest = train_test_split(x_new, y_new, train_size=.75,random_state=42)"
   ]
  },
  {
   "cell_type": "code",
   "execution_count": null,
   "id": "995fab30",
   "metadata": {},
   "outputs": [],
   "source": [
    "from sklearn.tree import DecisionTreeClassifier\n",
    "Clf = DecisionTreeClassifier() "
   ]
  },
  {
   "cell_type": "code",
   "execution_count": null,
   "id": "5ccd704a",
   "metadata": {},
   "outputs": [],
   "source": [
    "Clf.fit(xtrain,ytrain) "
   ]
  },
  {
   "cell_type": "code",
   "execution_count": null,
   "id": "72e9d3d6",
   "metadata": {},
   "outputs": [],
   "source": [
    "Clf.score(xtest,ytest)"
   ]
  },
  {
   "cell_type": "markdown",
   "id": "bece3a99",
   "metadata": {},
   "source": [
    "# XGBoost Classifier"
   ]
  },
  {
   "cell_type": "code",
   "execution_count": null,
   "id": "e97f72a7",
   "metadata": {},
   "outputs": [],
   "source": [
    "import xgboost \n",
    "from xgboost import XGBClassifier"
   ]
  },
  {
   "cell_type": "code",
   "execution_count": null,
   "id": "a1ca8f4d",
   "metadata": {},
   "outputs": [],
   "source": [
    "xgb = XGBClassifier()\n",
    "xgb.fit(xtrain,ytrain)"
   ]
  },
  {
   "cell_type": "code",
   "execution_count": null,
   "id": "526a66a0",
   "metadata": {},
   "outputs": [],
   "source": [
    "xgb.score(xtest,ytest)"
   ]
  },
  {
   "cell_type": "markdown",
   "id": "8afef778",
   "metadata": {},
   "source": [
    "# Ada Boost"
   ]
  },
  {
   "cell_type": "code",
   "execution_count": null,
   "id": "0f037350",
   "metadata": {},
   "outputs": [],
   "source": [
    "from sklearn.ensemble import AdaBoostClassifier\n",
    "ada = AdaBoostClassifier()"
   ]
  },
  {
   "cell_type": "code",
   "execution_count": null,
   "id": "122b9148",
   "metadata": {},
   "outputs": [],
   "source": [
    "ada.fit(xtrain,ytrain)"
   ]
  },
  {
   "cell_type": "code",
   "execution_count": null,
   "id": "9f094e54",
   "metadata": {},
   "outputs": [],
   "source": [
    "ada.score(xtest,ytest)"
   ]
  },
  {
   "cell_type": "markdown",
   "id": "c6e52f0b",
   "metadata": {},
   "source": [
    "# K Fold Cross Validation"
   ]
  },
  {
   "cell_type": "code",
   "execution_count": null,
   "id": "de7b2dbc",
   "metadata": {},
   "outputs": [],
   "source": [
    "from sklearn.model_selection import KFold, cross_val_score, cross_validate\n",
    "kfold = KFold(n_splits=4)"
   ]
  },
  {
   "cell_type": "code",
   "execution_count": null,
   "id": "05dbde9c",
   "metadata": {},
   "outputs": [],
   "source": [
    "result = cross_val_score(xgb, x_new, y_new,cv=kfold)"
   ]
  },
  {
   "cell_type": "code",
   "execution_count": null,
   "id": "e5471f5c",
   "metadata": {},
   "outputs": [],
   "source": [
    "result"
   ]
  },
  {
   "cell_type": "code",
   "execution_count": null,
   "id": "e1e44e31",
   "metadata": {},
   "outputs": [],
   "source": [
    "result.mean()"
   ]
  },
  {
   "cell_type": "code",
   "execution_count": null,
   "id": "5c01d152",
   "metadata": {},
   "outputs": [],
   "source": [
    "result.max()"
   ]
  },
  {
   "cell_type": "code",
   "execution_count": null,
   "id": "4cbd5a48",
   "metadata": {},
   "outputs": [],
   "source": [
    "result.min()"
   ]
  },
  {
   "cell_type": "code",
   "execution_count": null,
   "id": "e60ae6de",
   "metadata": {},
   "outputs": [],
   "source": [
    "cross_validate = cross_validate(xgb, x_new, y_new,cv=kfold)"
   ]
  },
  {
   "cell_type": "code",
   "execution_count": null,
   "id": "33a5c9e4",
   "metadata": {},
   "outputs": [],
   "source": [
    "cross_validate"
   ]
  },
  {
   "cell_type": "code",
   "execution_count": null,
   "id": "97ffe821",
   "metadata": {},
   "outputs": [],
   "source": [
    "result2 = cross_val_score(Clf, x_new, y_new,cv=kfold) #for decision tree"
   ]
  },
  {
   "cell_type": "code",
   "execution_count": null,
   "id": "a86561d0",
   "metadata": {},
   "outputs": [],
   "source": [
    "result2"
   ]
  },
  {
   "cell_type": "code",
   "execution_count": null,
   "id": "378bb320",
   "metadata": {},
   "outputs": [],
   "source": [
    "result2.mean()"
   ]
  },
  {
   "cell_type": "code",
   "execution_count": null,
   "id": "d8eeadab",
   "metadata": {},
   "outputs": [],
   "source": [
    "result2.min()"
   ]
  },
  {
   "cell_type": "code",
   "execution_count": null,
   "id": "7dcd98c6",
   "metadata": {},
   "outputs": [],
   "source": [
    "result2.max()"
   ]
  },
  {
   "cell_type": "markdown",
   "id": "410c4990",
   "metadata": {},
   "source": [
    "# Stratified k fold cross Validation"
   ]
  },
  {
   "cell_type": "code",
   "execution_count": null,
   "id": "9fb10e6f",
   "metadata": {},
   "outputs": [],
   "source": [
    "from sklearn.model_selection import StratifiedKFold\n",
    "st = StratifiedKFold(n_splits=4)"
   ]
  },
  {
   "cell_type": "code",
   "execution_count": null,
   "id": "3b865a24",
   "metadata": {},
   "outputs": [],
   "source": [
    "result3 = cross_val_score(xgb, x_new, y_new,cv=st)"
   ]
  },
  {
   "cell_type": "code",
   "execution_count": null,
   "id": "ed457283",
   "metadata": {},
   "outputs": [],
   "source": [
    "result3"
   ]
  },
  {
   "cell_type": "code",
   "execution_count": null,
   "id": "f950416c",
   "metadata": {},
   "outputs": [],
   "source": [
    "result3.min()"
   ]
  },
  {
   "cell_type": "code",
   "execution_count": null,
   "id": "ef29986b",
   "metadata": {},
   "outputs": [],
   "source": [
    "result3.max()"
   ]
  },
  {
   "cell_type": "code",
   "execution_count": null,
   "id": "12368597",
   "metadata": {},
   "outputs": [],
   "source": [
    "result3.mean()"
   ]
  },
  {
   "cell_type": "code",
   "execution_count": null,
   "id": "b2326070",
   "metadata": {},
   "outputs": [],
   "source": [
    "result4 = cross_val_score(Clf, x_new, y_new,cv=st)"
   ]
  },
  {
   "cell_type": "code",
   "execution_count": null,
   "id": "aedc7452",
   "metadata": {},
   "outputs": [],
   "source": [
    "result4"
   ]
  },
  {
   "cell_type": "code",
   "execution_count": null,
   "id": "78f822b3",
   "metadata": {},
   "outputs": [],
   "source": [
    "result4.min()"
   ]
  },
  {
   "cell_type": "code",
   "execution_count": null,
   "id": "953aa676",
   "metadata": {},
   "outputs": [],
   "source": [
    "result4.max()"
   ]
  },
  {
   "cell_type": "code",
   "execution_count": null,
   "id": "0c824d6e",
   "metadata": {},
   "outputs": [],
   "source": [
    "result4.mean()"
   ]
  }
 ],
 "metadata": {
  "kernelspec": {
   "display_name": "Python 3 (ipykernel)",
   "language": "python",
   "name": "python3"
  },
  "language_info": {
   "codemirror_mode": {
    "name": "ipython",
    "version": 3
   },
   "file_extension": ".py",
   "mimetype": "text/x-python",
   "name": "python",
   "nbconvert_exporter": "python",
   "pygments_lexer": "ipython3",
   "version": "3.9.7"
  }
 },
 "nbformat": 4,
 "nbformat_minor": 5
}
